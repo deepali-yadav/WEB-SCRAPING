{
 "cells": [
  {
   "cell_type": "code",
   "execution_count": 6,
   "metadata": {},
   "outputs": [
    {
     "name": "stdout",
     "output_type": "stream",
     "text": [
      "Defaulting to user installation because normal site-packages is not writeableNote: you may need to restart the kernel to use updated packages.\n",
      "\n",
      "Requirement already satisfied: selenium in c:\\users\\deepa\\appdata\\roaming\\python\\python312\\site-packages (4.17.2)\n",
      "Requirement already satisfied: urllib3[socks]<3,>=1.26 in c:\\users\\deepa\\appdata\\roaming\\python\\python312\\site-packages (from selenium) (2.1.0)\n",
      "Requirement already satisfied: trio~=0.17 in c:\\users\\deepa\\appdata\\roaming\\python\\python312\\site-packages (from selenium) (0.24.0)\n",
      "Requirement already satisfied: trio-websocket~=0.9 in c:\\users\\deepa\\appdata\\roaming\\python\\python312\\site-packages (from selenium) (0.11.1)\n",
      "Requirement already satisfied: certifi>=2021.10.8 in c:\\users\\deepa\\appdata\\roaming\\python\\python312\\site-packages (from selenium) (2023.11.17)\n",
      "Requirement already satisfied: typing_extensions>=4.9.0 in c:\\users\\deepa\\appdata\\roaming\\python\\python312\\site-packages (from selenium) (4.9.0)\n",
      "Requirement already satisfied: attrs>=20.1.0 in c:\\users\\deepa\\appdata\\roaming\\python\\python312\\site-packages (from trio~=0.17->selenium) (23.2.0)\n",
      "Requirement already satisfied: sortedcontainers in c:\\users\\deepa\\appdata\\roaming\\python\\python312\\site-packages (from trio~=0.17->selenium) (2.4.0)\n",
      "Requirement already satisfied: idna in c:\\users\\deepa\\appdata\\roaming\\python\\python312\\site-packages (from trio~=0.17->selenium) (3.6)\n",
      "Requirement already satisfied: outcome in c:\\users\\deepa\\appdata\\roaming\\python\\python312\\site-packages (from trio~=0.17->selenium) (1.3.0.post0)\n",
      "Requirement already satisfied: sniffio>=1.3.0 in c:\\users\\deepa\\appdata\\roaming\\python\\python312\\site-packages (from trio~=0.17->selenium) (1.3.0)\n",
      "Requirement already satisfied: cffi>=1.14 in c:\\users\\deepa\\appdata\\roaming\\python\\python312\\site-packages (from trio~=0.17->selenium) (1.16.0)\n",
      "Requirement already satisfied: wsproto>=0.14 in c:\\users\\deepa\\appdata\\roaming\\python\\python312\\site-packages (from trio-websocket~=0.9->selenium) (1.2.0)\n",
      "Requirement already satisfied: pysocks!=1.5.7,<2.0,>=1.5.6 in c:\\users\\deepa\\appdata\\roaming\\python\\python312\\site-packages (from urllib3[socks]<3,>=1.26->selenium) (1.7.1)\n",
      "Requirement already satisfied: pycparser in c:\\users\\deepa\\appdata\\roaming\\python\\python312\\site-packages (from cffi>=1.14->trio~=0.17->selenium) (2.21)\n",
      "Requirement already satisfied: h11<1,>=0.9.0 in c:\\users\\deepa\\appdata\\roaming\\python\\python312\\site-packages (from wsproto>=0.14->trio-websocket~=0.9->selenium) (0.14.0)\n"
     ]
    },
    {
     "name": "stderr",
     "output_type": "stream",
     "text": [
      "\n",
      "[notice] A new release of pip is available: 23.2.1 -> 23.3.2\n",
      "[notice] To update, run: python.exe -m pip install --upgrade pip\n"
     ]
    }
   ],
   "source": [
    "pip install selenium"
   ]
  },
  {
   "cell_type": "code",
   "execution_count": 2,
   "metadata": {},
   "outputs": [
    {
     "name": "stderr",
     "output_type": "stream",
     "text": [
      "C:\\Users\\deepa\\AppData\\Local\\Temp\\ipykernel_15300\\206090456.py:6: DeprecationWarning: \n",
      "Pyarrow will become a required dependency of pandas in the next major release of pandas (pandas 3.0),\n",
      "(to allow more performant data types, such as the Arrow string type, and better interoperability with other libraries)\n",
      "but was not found to be installed on your system.\n",
      "If this would cause problems for you,\n",
      "please provide us feedback at https://github.com/pandas-dev/pandas/issues/54466\n",
      "        \n",
      "  import pandas as pd\n"
     ]
    }
   ],
   "source": [
    "from selenium import webdriver\n",
    "from selenium.webdriver.common.keys import Keys\n",
    "from selenium.webdriver.common.by import By\n",
    "import time\n",
    "from datetime import date \n",
    "import pandas as pd \n"
   ]
  },
  {
   "cell_type": "code",
   "execution_count": 43,
   "metadata": {},
   "outputs": [
    {
     "name": "stdout",
     "output_type": "stream",
     "text": [
      "     RANK                      NAME  YEAR RATING REVIEW_COUNT  \\\n",
      "0       1  The Shawshank Redemption  1994    9.3       (2.9M)   \n",
      "1       2             The Godfather  1972    9.2         (2M)   \n",
      "2       3           The Dark Knight  2008    9.0       (2.8M)   \n",
      "3       4     The Godfather Part II  1974    9.0       (1.3M)   \n",
      "4       5              12 Angry Men  1957    9.0       (852K)   \n",
      "..    ...                       ...   ...    ...          ...   \n",
      "245   246                  The Help  2011    8.1       (487K)   \n",
      "246   247     It Happened One Night  1934    8.1       (111K)   \n",
      "247   248             The 400 Blows  1959    8.1       (127K)   \n",
      "248   249                  Drishyam  2015    8.2        (93K)   \n",
      "249   250                   Aladdin  1992    8.0       (460K)   \n",
      "\n",
      "                                           POSTER_LINK  \n",
      "0    https://m.media-amazon.com/images/M/MV5BNDE3OD...  \n",
      "1    https://m.media-amazon.com/images/M/MV5BM2MyNj...  \n",
      "2    https://m.media-amazon.com/images/M/MV5BMTMxNT...  \n",
      "3    https://m.media-amazon.com/images/M/MV5BMWMwMG...  \n",
      "4    https://m.media-amazon.com/images/M/MV5BMWU4N2...  \n",
      "..                                                 ...  \n",
      "245  https://m.media-amazon.com/images/M/MV5BMTM5OT...  \n",
      "246  https://m.media-amazon.com/images/M/MV5BYzJmMW...  \n",
      "247  https://m.media-amazon.com/images/M/MV5BNzUwYz...  \n",
      "248  https://m.media-amazon.com/images/M/MV5BYmJhZm...  \n",
      "249  https://m.media-amazon.com/images/M/MV5BZTg5ZT...  \n",
      "\n",
      "[250 rows x 6 columns]\n"
     ]
    }
   ],
   "source": [
    "driver = webdriver.Chrome()\n",
    "driver.get(\"https://www.imdb.com/chart/top/\")\n",
    "time.sleep(5)\n",
    "\n",
    "#  Extraction of xpath\n",
    "\n",
    "name_list= driver.find_elements(\"xpath\",\"//div[@class='sc-be6f1408-0 gVGktK cli-children']/div/a/h3 \")\n",
    "year_list=driver.find_elements(\"xpath\",\"//div[@class='sc-be6f1408-0 gVGktK cli-children']/div[@class='sc-be6f1408-7 iUtHEN cli-title-metadata']/span[1]\")\n",
    "rating_list=driver.find_elements(\"xpath\",\"//div[@class='sc-be6f1408-0 gVGktK cli-children']/span[@class='sc-be6f1408-1 dbnleL']/div/span\")\n",
    "rating_count =driver.find_elements(\"xpath\",\"//div[@class='sc-e2dbc1a3-0 ajrIH sc-be6f1408-2 dAeZAQ cli-ratings-container']/span/span\")\n",
    "poster_links = driver.find_elements(\"xpath\",\"//div[@class='ipc-media ipc-media--poster-27x40 ipc-image-media-ratio--poster-27x40 ipc-media--base ipc-media--poster-m ipc-poster__poster-image ipc-media__img']/img\")\n",
    "\n",
    "# Extracting the data into a list\n",
    "data = []\n",
    "\n",
    "for i in range(len(name_list)):\n",
    "    rank= i+1\n",
    "    name = name_list[i].text.split('. ', 1)[-1] # extracting only the moview name\n",
    "    year=year_list[i].text\n",
    "    rating_text= rating_list[i].text\n",
    "    rating = rating_text.replace('(', '').split()[0] if '(' in rating_text else None # Extracting only rating\n",
    "    review_count= rating_count[i].text\n",
    "    link = poster_links[i].get_attribute('src')\n",
    "\n",
    "    \n",
    "\n",
    "    data.append({\n",
    "        'RANK': rank,\n",
    "        'NAME': name,\n",
    "        'YEAR': year,\n",
    "        'RATING': rating,\n",
    "        'REVIEW_COUNT': review_count,\n",
    "        'POSTER_LINK': link\n",
    "         })\n",
    "\n",
    "\n",
    "# creating a dataframe \n",
    "final_df = pd.DataFrame(data)\n",
    "print(final_df)\n",
    "\n",
    "# creating a csv \n",
    "final_df.to_csv('imdb_250.csv', index=False)\n",
    "\n",
    "\n"
   ]
  },
  {
   "cell_type": "markdown",
   "metadata": {},
   "source": []
  },
  {
   "cell_type": "code",
   "execution_count": null,
   "metadata": {},
   "outputs": [],
   "source": []
  }
 ],
 "metadata": {
  "kernelspec": {
   "display_name": "Python 3",
   "language": "python",
   "name": "python3"
  },
  "language_info": {
   "codemirror_mode": {
    "name": "ipython",
    "version": 3
   },
   "file_extension": ".py",
   "mimetype": "text/x-python",
   "name": "python",
   "nbconvert_exporter": "python",
   "pygments_lexer": "ipython3",
   "version": "3.12.1"
  }
 },
 "nbformat": 4,
 "nbformat_minor": 2
}
